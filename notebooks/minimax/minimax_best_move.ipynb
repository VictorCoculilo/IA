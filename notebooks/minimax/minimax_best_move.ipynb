{
 "cells": [
  {
   "cell_type": "code",
   "execution_count": 2,
   "id": "43f727dd",
   "metadata": {},
   "outputs": [
    {
     "data": {
      "text/html": [
       "<div>\n",
       "<style scoped>\n",
       "    .dataframe tbody tr th:only-of-type {\n",
       "        vertical-align: middle;\n",
       "    }\n",
       "\n",
       "    .dataframe tbody tr th {\n",
       "        vertical-align: top;\n",
       "    }\n",
       "\n",
       "    .dataframe thead th {\n",
       "        text-align: right;\n",
       "    }\n",
       "</style>\n",
       "<table border=\"1\" class=\"dataframe\">\n",
       "  <thead>\n",
       "    <tr style=\"text-align: right;\">\n",
       "      <th></th>\n",
       "      <th>Tabuleiro</th>\n",
       "      <th>Jogador</th>\n",
       "      <th>Ação</th>\n",
       "      <th>Resultado final</th>\n",
       "    </tr>\n",
       "  </thead>\n",
       "  <tbody>\n",
       "    <tr>\n",
       "      <th>0</th>\n",
       "      <td>[ ,  ,  ,  ,  ,  ,  ,  ,  ]</td>\n",
       "      <td>X</td>\n",
       "      <td>0</td>\n",
       "      <td>Empate</td>\n",
       "    </tr>\n",
       "    <tr>\n",
       "      <th>1</th>\n",
       "      <td>[X,  ,  ,  ,  ,  ,  ,  ,  ]</td>\n",
       "      <td>O</td>\n",
       "      <td>4</td>\n",
       "      <td>Empate</td>\n",
       "    </tr>\n",
       "    <tr>\n",
       "      <th>2</th>\n",
       "      <td>[X,  ,  ,  , O,  ,  ,  ,  ]</td>\n",
       "      <td>X</td>\n",
       "      <td>1</td>\n",
       "      <td>Empate</td>\n",
       "    </tr>\n",
       "    <tr>\n",
       "      <th>3</th>\n",
       "      <td>[X, X,  ,  , O,  ,  ,  ,  ]</td>\n",
       "      <td>O</td>\n",
       "      <td>2</td>\n",
       "      <td>Empate</td>\n",
       "    </tr>\n",
       "    <tr>\n",
       "      <th>4</th>\n",
       "      <td>[X, X, O,  , O,  ,  ,  ,  ]</td>\n",
       "      <td>X</td>\n",
       "      <td>6</td>\n",
       "      <td>Empate</td>\n",
       "    </tr>\n",
       "  </tbody>\n",
       "</table>\n",
       "</div>"
      ],
      "text/plain": [
       "                     Tabuleiro Jogador  Ação Resultado final\n",
       "0  [ ,  ,  ,  ,  ,  ,  ,  ,  ]       X     0          Empate\n",
       "1  [X,  ,  ,  ,  ,  ,  ,  ,  ]       O     4          Empate\n",
       "2  [X,  ,  ,  , O,  ,  ,  ,  ]       X     1          Empate\n",
       "3  [X, X,  ,  , O,  ,  ,  ,  ]       O     2          Empate\n",
       "4  [X, X, O,  , O,  ,  ,  ,  ]       X     6          Empate"
      ]
     },
     "execution_count": 2,
     "metadata": {},
     "output_type": "execute_result"
    }
   ],
   "source": [
    "# Programa para ilustrar o uso da função best_move com o algoritmo Minimax\n",
    "\n",
    "from minimax import minimax, best_move\n",
    "from tic_tac_toe import TicTacToe\n",
    "\n",
    "# Simulação de uma partida onde ambos os jogadores usam a política ótima\n",
    "def simulate_game():\n",
    "    game = TicTacToe()\n",
    "    states = []\n",
    "\n",
    "    while not game.game_over():\n",
    "        move = best_move(game)\n",
    "        states.append((game.board[:], game.current, move))\n",
    "        game.make_move(move)\n",
    "\n",
    "    final_result = game.winner() or 'Empate'\n",
    "    return states, final_result\n",
    "\n",
    "# Executa a simulação e retorna o histórico da partida\n",
    "states, result = simulate_game()\n",
    "import pandas as pd\n",
    "df = pd.DataFrame(states, columns=[\"Tabuleiro\", \"Jogador\", \"Ação\"])\n",
    "df[\"Resultado final\"] = result\n",
    "df.head()"
   ]
  }
 ],
 "metadata": {
  "kernelspec": {
   "display_name": "gcc1734",
   "language": "python",
   "name": "python3"
  },
  "language_info": {
   "codemirror_mode": {
    "name": "ipython",
    "version": 3
   },
   "file_extension": ".py",
   "mimetype": "text/x-python",
   "name": "python",
   "nbconvert_exporter": "python",
   "pygments_lexer": "ipython3",
   "version": "3.11.11"
  }
 },
 "nbformat": 4,
 "nbformat_minor": 5
}
