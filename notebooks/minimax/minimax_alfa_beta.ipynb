{
 "cells": [
  {
   "cell_type": "markdown",
   "id": "82a033af",
   "metadata": {},
   "source": [
    "# Minimax com poda alfa/beta"
   ]
  },
  {
   "cell_type": "code",
   "execution_count": 10,
   "id": "f6db90cd",
   "metadata": {},
   "outputs": [
    {
     "data": {
      "text/plain": [
       "(935, 384)"
      ]
     },
     "execution_count": 10,
     "metadata": {},
     "output_type": "execute_result"
    }
   ],
   "source": [
    "import matplotlib.pyplot as plt\n",
    "from tic_tac_toe import TicTacToe\n",
    "\n",
    "# --- Minimax and Alpha-Beta with Counters ---\n",
    "nodes_minimax = 0\n",
    "nodes_ab = 0\n",
    "\n",
    "def minimax_count(game, maximizing):\n",
    "    global nodes_minimax\n",
    "    nodes_minimax += 1\n",
    "\n",
    "    if game.winner() == 'X':\n",
    "        return 1\n",
    "    elif game.winner() == 'O':\n",
    "        return -1\n",
    "    elif game.full():\n",
    "        return 0\n",
    "\n",
    "    if maximizing:\n",
    "        best = float('-inf')\n",
    "        for move in game.available_moves():\n",
    "            new_game = game.copy()\n",
    "            new_game.make_move(move)\n",
    "            score = minimax_count(new_game, False)\n",
    "            best = max(best, score)\n",
    "        return best\n",
    "    else:\n",
    "        best = float('inf')\n",
    "        for move in game.available_moves():\n",
    "            new_game = game.copy()\n",
    "            new_game.make_move(move)\n",
    "            score = minimax_count(new_game, True)\n",
    "            best = min(best, score)\n",
    "        return best\n",
    "\n",
    "def minimax_ab_count(game, maximizing, alpha=float('-inf'), beta=float('inf')):\n",
    "    global nodes_ab\n",
    "    nodes_ab += 1\n",
    "\n",
    "    if game.winner() == 'X':\n",
    "        return 1\n",
    "    elif game.winner() == 'O':\n",
    "        return -1\n",
    "    elif game.full():\n",
    "        return 0\n",
    "\n",
    "    if maximizing:\n",
    "        best = float('-inf')\n",
    "        for move in game.available_moves():\n",
    "            new_game = game.copy()\n",
    "            new_game.make_move(move)\n",
    "            score = minimax_ab_count(new_game, False, alpha, beta)\n",
    "            best = max(best, score)\n",
    "            alpha = max(alpha, score)\n",
    "            if beta <= alpha:\n",
    "                break\n",
    "        return best\n",
    "    else:\n",
    "        best = float('inf')\n",
    "        for move in game.available_moves():\n",
    "            new_game = game.copy()\n",
    "            new_game.make_move(move)\n",
    "            score = minimax_ab_count(new_game, True, alpha, beta)\n",
    "            best = min(best, score)\n",
    "            beta = min(beta, score)\n",
    "            if beta <= alpha:\n",
    "                break\n",
    "        return best\n",
    "\n",
    "# --- Test Execution ---\n",
    "game = TicTacToe()\n",
    "# Create a partially played board to simulate a mid-game state\n",
    "initial_moves = [0, 4, 1]  # X at 0, O at 4, X at 1\n",
    "for move in initial_moves:\n",
    "    game.make_move(move)\n",
    "\n",
    "# Run both algorithms\n",
    "nodes_minimax = 0\n",
    "minimax_count(game.copy(), True)\n",
    "\n",
    "nodes_ab = 0\n",
    "minimax_ab_count(game.copy(), True)\n",
    "\n",
    "(nodes_minimax, nodes_ab)"
   ]
  },
  {
   "cell_type": "markdown",
   "id": "e1b38586",
   "metadata": {},
   "source": [
    "Abaixo está o código que gera um gráfico comparando o número de nós visitados pelo algoritmo Minimax simples e com poda alfa-beta. A vantagem da poda é evidente: menos da metade dos nós precisam ser explorados para encontrar a mesma jogada ótima."
   ]
  },
  {
   "cell_type": "code",
   "execution_count": 9,
   "id": "b34ceb38",
   "metadata": {},
   "outputs": [
    {
     "data": {
      "image/png": "[encoded data removed]",
      "text/plain": [
       "<Figure size 600x400 with 1 Axes>"
      ]
     },
     "metadata": {},
     "output_type": "display_data"
    }
   ],
   "source": [
    "# Plot comparison of nodes visited\n",
    "labels = ['Minimax', 'Alpha-Beta']\n",
    "values = [nodes_minimax, nodes_ab]\n",
    "\n",
    "plt.figure(figsize=(6,4))\n",
    "plt.bar(labels, values)\n",
    "plt.ylabel('Nós Visitados')\n",
    "plt.title('Comparação entre Minimax e Poda Alfa-Beta')\n",
    "plt.grid(axis='y')\n",
    "plt.tight_layout()\n",
    "plt.show()\n"
   ]
  }
 ],
 "metadata": {
  "kernelspec": {
   "display_name": "gcc1734",
   "language": "python",
   "name": "python3"
  },
  "language_info": {
   "codemirror_mode": {
    "name": "ipython",
    "version": 3
   },
   "file_extension": ".py",
   "mimetype": "text/x-python",
   "name": "python",
   "nbconvert_exporter": "python",
   "pygments_lexer": "ipython3",
   "version": "3.13.2"
  }
 },
 "nbformat": 4,
 "nbformat_minor": 5
}
