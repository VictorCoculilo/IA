{
 "cells": [
  {
   "cell_type": "code",
   "execution_count": 2,
   "id": "8fd4af3a",
   "metadata": {},
   "outputs": [
    {
     "name": "stdout",
     "output_type": "stream",
     "text": [
      "\n",
      "Jogada 1 - Jogador: X, Ação escolhida: 0\n",
      "[' ', ' ', ' ']\n",
      "[' ', ' ', ' ']\n",
      "[' ', ' ', ' ']\n",
      "\n",
      "Jogada 2 - Jogador: O, Ação escolhida: 4\n",
      "['X', ' ', ' ']\n",
      "[' ', ' ', ' ']\n",
      "[' ', ' ', ' ']\n",
      "\n",
      "Jogada 3 - Jogador: X, Ação escolhida: 1\n",
      "['X', ' ', ' ']\n",
      "[' ', 'O', ' ']\n",
      "[' ', ' ', ' ']\n",
      "\n",
      "Jogada 4 - Jogador: O, Ação escolhida: 2\n",
      "['X', 'X', ' ']\n",
      "[' ', 'O', ' ']\n",
      "[' ', ' ', ' ']\n",
      "\n",
      "Jogada 5 - Jogador: X, Ação escolhida: 6\n",
      "['X', 'X', 'O']\n",
      "[' ', 'O', ' ']\n",
      "[' ', ' ', ' ']\n",
      "\n",
      "Jogada 6 - Jogador: O, Ação escolhida: 3\n",
      "['X', 'X', 'O']\n",
      "[' ', 'O', ' ']\n",
      "['X', ' ', ' ']\n",
      "\n",
      "Jogada 7 - Jogador: X, Ação escolhida: 5\n",
      "['X', 'X', 'O']\n",
      "['O', 'O', ' ']\n",
      "['X', ' ', ' ']\n",
      "\n",
      "Jogada 8 - Jogador: O, Ação escolhida: 7\n",
      "['X', 'X', 'O']\n",
      "['O', 'O', 'X']\n",
      "['X', ' ', ' ']\n",
      "\n",
      "Jogada 9 - Jogador: X, Ação escolhida: 8\n",
      "['X', 'X', 'O']\n",
      "['O', 'O', 'X']\n",
      "['X', 'O', ' ']\n",
      "\n",
      "Resultado final da partida: Empate\n"
     ]
    }
   ],
   "source": [
    "from tic_tac_toe import TicTacToe\n",
    "from minimax import minimax, best_move\n",
    "\n",
    "def simulate_game_verbose():\n",
    "    game = TicTacToe()\n",
    "    states = []\n",
    "\n",
    "    while not game.game_over():\n",
    "        move = best_move(game)\n",
    "        states.append((game.board[:], game.current, move))\n",
    "        game.make_move(move)\n",
    "\n",
    "    final_result = game.winner() or 'Empate'\n",
    "\n",
    "    # Impressão visual do histórico\n",
    "    for i, (tab, jogador, acao) in enumerate(states):\n",
    "        print(f\"\\nJogada {i+1} - Jogador: {jogador}, Ação escolhida: {acao}\")\n",
    "        print(f\"{tab[0:3]}\\n{tab[3:6]}\\n{tab[6:9]}\")\n",
    "\n",
    "    print(f\"\\nResultado final da partida: {final_result}\")\n",
    "\n",
    "# Executa a simulação com visualização\n",
    "simulate_game_verbose()\n"
   ]
  }
 ],
 "metadata": {
  "kernelspec": {
   "display_name": "gcc1734",
   "language": "python",
   "name": "python3"
  },
  "language_info": {
   "codemirror_mode": {
    "name": "ipython",
    "version": 3
   },
   "file_extension": ".py",
   "mimetype": "text/x-python",
   "name": "python",
   "nbconvert_exporter": "python",
   "pygments_lexer": "ipython3",
   "version": "3.13.2"
  }
 },
 "nbformat": 4,
 "nbformat_minor": 5
}
