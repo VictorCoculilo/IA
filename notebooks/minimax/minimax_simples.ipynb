{
 "cells": [
  {
   "cell_type": "markdown",
   "id": "82a033af",
   "metadata": {},
   "source": [
    "# Minimax simples"
   ]
  },
  {
   "cell_type": "code",
   "execution_count": 1,
   "id": "77a6aa2a",
   "metadata": {},
   "outputs": [],
   "source": [
    "from tic_tac_toe import TicTacToe \n",
    "from minimax import minimax, best_move"
   ]
  },
  {
   "cell_type": "code",
   "execution_count": 2,
   "id": "70e8d0e3",
   "metadata": {},
   "outputs": [
    {
     "data": {
      "text/plain": [
       "1"
      ]
     },
     "execution_count": 2,
     "metadata": {},
     "output_type": "execute_result"
    }
   ],
   "source": [
    "# --- Test Execution ---\n",
    "game = TicTacToe()\n",
    "\n",
    "# Create a partially played board to simulate a mid-game state\n",
    "initial_moves = [0, 4, 1, 5]  # X at 0, O at 4, X at 1, O at 5\n",
    "for move in initial_moves:\n",
    "    game.make_move(move)\n",
    "\n",
    "# Run algorithm\n",
    "minimax(game.copy(), True)"
   ]
  },
  {
   "cell_type": "code",
   "execution_count": 3,
   "id": "548ed376",
   "metadata": {},
   "outputs": [
    {
     "data": {
      "text/plain": [
       "2"
      ]
     },
     "execution_count": 3,
     "metadata": {},
     "output_type": "execute_result"
    }
   ],
   "source": [
    "best_move(game)"
   ]
  },
  {
   "cell_type": "code",
   "execution_count": 4,
   "id": "43f727dd",
   "metadata": {},
   "outputs": [
    {
     "data": {
      "text/html": [
       "<div>\n",
       "<style scoped>\n",
       "    .dataframe tbody tr th:only-of-type {\n",
       "        vertical-align: middle;\n",
       "    }\n",
       "\n",
       "    .dataframe tbody tr th {\n",
       "        vertical-align: top;\n",
       "    }\n",
       "\n",
       "    .dataframe thead th {\n",
       "        text-align: right;\n",
       "    }\n",
       "</style>\n",
       "<table border=\"1\" class=\"dataframe\">\n",
       "  <thead>\n",
       "    <tr style=\"text-align: right;\">\n",
       "      <th></th>\n",
       "      <th>Tabuleiro</th>\n",
       "      <th>Jogador</th>\n",
       "      <th>Ação</th>\n",
       "      <th>Resultado final</th>\n",
       "    </tr>\n",
       "  </thead>\n",
       "  <tbody>\n",
       "    <tr>\n",
       "      <th>0</th>\n",
       "      <td>[ ,  ,  ,  ,  ,  ,  ,  ,  ]</td>\n",
       "      <td>X</td>\n",
       "      <td>0</td>\n",
       "      <td>Empate</td>\n",
       "    </tr>\n",
       "    <tr>\n",
       "      <th>1</th>\n",
       "      <td>[X,  ,  ,  ,  ,  ,  ,  ,  ]</td>\n",
       "      <td>O</td>\n",
       "      <td>4</td>\n",
       "      <td>Empate</td>\n",
       "    </tr>\n",
       "    <tr>\n",
       "      <th>2</th>\n",
       "      <td>[X,  ,  ,  , O,  ,  ,  ,  ]</td>\n",
       "      <td>X</td>\n",
       "      <td>1</td>\n",
       "      <td>Empate</td>\n",
       "    </tr>\n",
       "    <tr>\n",
       "      <th>3</th>\n",
       "      <td>[X, X,  ,  , O,  ,  ,  ,  ]</td>\n",
       "      <td>O</td>\n",
       "      <td>2</td>\n",
       "      <td>Empate</td>\n",
       "    </tr>\n",
       "    <tr>\n",
       "      <th>4</th>\n",
       "      <td>[X, X, O,  , O,  ,  ,  ,  ]</td>\n",
       "      <td>X</td>\n",
       "      <td>6</td>\n",
       "      <td>Empate</td>\n",
       "    </tr>\n",
       "    <tr>\n",
       "      <th>5</th>\n",
       "      <td>[X, X, O,  , O,  , X,  ,  ]</td>\n",
       "      <td>O</td>\n",
       "      <td>3</td>\n",
       "      <td>Empate</td>\n",
       "    </tr>\n",
       "    <tr>\n",
       "      <th>6</th>\n",
       "      <td>[X, X, O, O, O,  , X,  ,  ]</td>\n",
       "      <td>X</td>\n",
       "      <td>5</td>\n",
       "      <td>Empate</td>\n",
       "    </tr>\n",
       "    <tr>\n",
       "      <th>7</th>\n",
       "      <td>[X, X, O, O, O, X, X,  ,  ]</td>\n",
       "      <td>O</td>\n",
       "      <td>7</td>\n",
       "      <td>Empate</td>\n",
       "    </tr>\n",
       "    <tr>\n",
       "      <th>8</th>\n",
       "      <td>[X, X, O, O, O, X, X, O,  ]</td>\n",
       "      <td>X</td>\n",
       "      <td>8</td>\n",
       "      <td>Empate</td>\n",
       "    </tr>\n",
       "  </tbody>\n",
       "</table>\n",
       "</div>"
      ],
      "text/plain": [
       "                     Tabuleiro Jogador  Ação Resultado final\n",
       "0  [ ,  ,  ,  ,  ,  ,  ,  ,  ]       X     0          Empate\n",
       "1  [X,  ,  ,  ,  ,  ,  ,  ,  ]       O     4          Empate\n",
       "2  [X,  ,  ,  , O,  ,  ,  ,  ]       X     1          Empate\n",
       "3  [X, X,  ,  , O,  ,  ,  ,  ]       O     2          Empate\n",
       "4  [X, X, O,  , O,  ,  ,  ,  ]       X     6          Empate\n",
       "5  [X, X, O,  , O,  , X,  ,  ]       O     3          Empate\n",
       "6  [X, X, O, O, O,  , X,  ,  ]       X     5          Empate\n",
       "7  [X, X, O, O, O, X, X,  ,  ]       O     7          Empate\n",
       "8  [X, X, O, O, O, X, X, O,  ]       X     8          Empate"
      ]
     },
     "execution_count": 4,
     "metadata": {},
     "output_type": "execute_result"
    }
   ],
   "source": [
    "# Programa para ilustrar o uso da função best_move com o algoritmo Minimax\n",
    "\n",
    "# Simulação de uma partida onde ambos os jogadores usam a política ótima\n",
    "def simulate_game():\n",
    "    game = TicTacToe()\n",
    "    states = []\n",
    "\n",
    "    while not game.game_over():\n",
    "        move = best_move(game)\n",
    "        states.append((game.board[:], game.current, move))\n",
    "        game.make_move(move)\n",
    "\n",
    "    final_result = game.winner() or 'Empate'\n",
    "    return states, final_result\n",
    "\n",
    "# Executa a simulação e retorna o histórico da partida\n",
    "states, result = simulate_game()\n",
    "import pandas as pd\n",
    "df = pd.DataFrame(states, columns=[\"Tabuleiro\", \"Jogador\", \"Ação\"])\n",
    "df[\"Resultado final\"] = result\n",
    "df.head(10)"
   ]
  },
  {
   "cell_type": "code",
   "execution_count": 5,
   "id": "79c9ff04",
   "metadata": {},
   "outputs": [
    {
     "name": "stdout",
     "output_type": "stream",
     "text": [
      "\n",
      "Jogada 1 - Jogador: X, Ação: 0\n",
      "[' ', ' ', ' ']\n",
      "[' ', ' ', ' ']\n",
      "[' ', ' ', ' ']\n",
      "\n",
      "Jogada 2 - Jogador: O, Ação: 4\n",
      "['X', ' ', ' ']\n",
      "[' ', ' ', ' ']\n",
      "[' ', ' ', ' ']\n",
      "\n",
      "Jogada 3 - Jogador: X, Ação: 1\n",
      "['X', ' ', ' ']\n",
      "[' ', 'O', ' ']\n",
      "[' ', ' ', ' ']\n",
      "\n",
      "Jogada 4 - Jogador: O, Ação: 2\n",
      "['X', 'X', ' ']\n",
      "[' ', 'O', ' ']\n",
      "[' ', ' ', ' ']\n",
      "\n",
      "Jogada 5 - Jogador: X, Ação: 6\n",
      "['X', 'X', 'O']\n",
      "[' ', 'O', ' ']\n",
      "[' ', ' ', ' ']\n",
      "\n",
      "Jogada 6 - Jogador: O, Ação: 3\n",
      "['X', 'X', 'O']\n",
      "[' ', 'O', ' ']\n",
      "['X', ' ', ' ']\n",
      "\n",
      "Jogada 7 - Jogador: X, Ação: 5\n",
      "['X', 'X', 'O']\n",
      "['O', 'O', ' ']\n",
      "['X', ' ', ' ']\n",
      "\n",
      "Jogada 8 - Jogador: O, Ação: 7\n",
      "['X', 'X', 'O']\n",
      "['O', 'O', 'X']\n",
      "['X', ' ', ' ']\n",
      "\n",
      "Jogada 9 - Jogador: X, Ação: 8\n",
      "['X', 'X', 'O']\n",
      "['O', 'O', 'X']\n",
      "['X', 'O', ' ']\n",
      "\n",
      "Resultado final: Empate\n"
     ]
    }
   ],
   "source": [
    "for i, (tab, jogador, acao) in enumerate(states):\n",
    "    print(f\"\\nJogada {i+1} - Jogador: {jogador}, Ação: {acao}\")\n",
    "    print(tab[0:3])\n",
    "    print(tab[3:6])\n",
    "    print(tab[6:9])\n",
    "\n",
    "print(f\"\\nResultado final: {result}\")\n"
   ]
  }
 ],
 "metadata": {
  "kernelspec": {
   "display_name": "gcc1734",
   "language": "python",
   "name": "python3"
  },
  "language_info": {
   "codemirror_mode": {
    "name": "ipython",
    "version": 3
   },
   "file_extension": ".py",
   "mimetype": "text/x-python",
   "name": "python",
   "nbconvert_exporter": "python",
   "pygments_lexer": "ipython3",
   "version": "3.11.11"
  }
 },
 "nbformat": 4,
 "nbformat_minor": 5
}
